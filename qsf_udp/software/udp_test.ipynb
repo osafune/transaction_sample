{
 "cells": [
  {
   "cell_type": "code",
   "execution_count": 11,
   "metadata": {},
   "outputs": [],
   "source": [
    "# UDP to Avalon-MM bridge送受信\n",
    "\n",
    "from socket import socket, AF_INET, SOCK_DGRAM\n",
    "from struct import *\n",
    "\n",
    "SOCKET_BUFFSIZE = 2048\n",
    "ETHIO_SERVER = (\"192.168.1.203\", 16241)\n",
    "\n",
    "def print_bin(label, bin):\n",
    "\tprint(label, end=\" : \")\n",
    "\tfor b in bin: print(format(b, \"02x\"), end=\" \")\n",
    "\tprint(\"\")\n",
    "\n",
    "\n",
    "# Avalon-MMのライトパケットとリードパケットの作成\n",
    "\n",
    "ETHIO_PACKET_FOURCC = b\"AVMM\"\n",
    "ETHIO_PACKET_ENDCMD = b\"\\x7f\\x00\\xff\\xff\"\n",
    "\n",
    "def data_padding(data):\n",
    "\treturn data + b\"\\x00\" * ((4 - len(data)) & 3)\n",
    "\n",
    "def avm_memwr(sock, addr, wrbyte):\n",
    "\tsend_data = ETHIO_PACKET_FOURCC\n",
    "\tsend_data += pack(\"!BxHL\", 0x44, len(wrbyte), addr) + data_padding(wrbyte)\n",
    "\tsend_data += ETHIO_PACKET_ENDCMD\n",
    "\tprint_bin(\"-> MEMWR\", send_data)\n",
    "\tsock.sendto(send_data, ETHIO_SERVER)\n",
    "\tres, addr = sock.recvfrom(SOCKET_BUFFSIZE)\n",
    "\tprint_bin(\"<-   RES\", res)\n",
    "\tresp, size = unpack(\"!BxH\", res[4:8])\n",
    "\treturn size\n",
    "\n",
    "def avm_memrd(sock, addr, readnum):\n",
    "\tsend_data = ETHIO_PACKET_FOURCC\n",
    "\tsend_data += pack(\"!BxHL\", 0x54, readnum, addr)\n",
    "\tsend_data += ETHIO_PACKET_ENDCMD\n",
    "\tprint_bin(\"-> MEMWR\", send_data)\n",
    "\tsock.sendto(send_data, ETHIO_SERVER)\n",
    "\tres, addr = sock.recvfrom(SOCKET_BUFFSIZE)\n",
    "\tprint_bin(\"<-   RES\", res)\n",
    "\tresp, size = unpack(\"!BxH\", res[4:8])\n",
    "\treturn res[8:8+size]\n"
   ]
  },
  {
   "cell_type": "code",
   "execution_count": 12,
   "metadata": {},
   "outputs": [
    {
     "name": "stdout",
     "output_type": "stream",
     "text": [
      "-> MEMWR : 41 56 4d 4d 54 00 00 08 10 00 00 00 7f 00 ff ff \n",
      "<-   RES : 41 56 4d 4d d4 00 00 08 02 00 a0 72 6d b3 87 63 ff 00 00 00 \n",
      "System ID = 0x72a00002 , Build 2022-12-01 04:47:57\n",
      "-> MEMWR : 41 56 4d 4d 44 00 00 04 10 00 00 20 01 00 00 00 7f 00 ff ff \n",
      "<-   RES : 41 56 4d 4d c4 00 00 04 ff 00 00 00 \n",
      "UserLED[0] on\n"
     ]
    }
   ],
   "source": [
    "# Platform Designerモジュールのアクセス \n",
    "\n",
    "from datetime import *\n",
    "\n",
    "with socket(AF_INET, SOCK_DGRAM) as sock:\n",
    "\n",
    "\t# SystemIDペリフェラルのリード\n",
    "\n",
    "\trdbytes = avm_memrd(sock, 0x10000000, 8)\n",
    "\tsysid, timestamp = unpack('LL', rdbytes[0:8])\n",
    "\tdt = datetime.fromtimestamp(timestamp)\n",
    "\tprint(\"System ID =\", hex(sysid), \", Build\", dt)\n",
    "\n",
    "\t# PIOペリフェラルのライト（LED点灯）\n",
    "\n",
    "\tavm_memwr(sock, 0x10000020, b\"\\x01\\x00\\x00\\x00\")\n",
    "\tprint(\"UserLED[0] on\")\n"
   ]
  }
 ],
 "metadata": {
  "kernelspec": {
   "display_name": "Python 3.9.1 64-bit (microsoft store)",
   "language": "python",
   "name": "python3"
  },
  "language_info": {
   "codemirror_mode": {
    "name": "ipython",
    "version": 3
   },
   "file_extension": ".py",
   "mimetype": "text/x-python",
   "name": "python",
   "nbconvert_exporter": "python",
   "pygments_lexer": "ipython3",
   "version": "3.9.1"
  },
  "orig_nbformat": 4,
  "vscode": {
   "interpreter": {
    "hash": "a1ddee1eed06d77a19de5b5676a6d8cace7a818c4ba9c308bfe62f1f28914597"
   }
  }
 },
 "nbformat": 4,
 "nbformat_minor": 2
}
